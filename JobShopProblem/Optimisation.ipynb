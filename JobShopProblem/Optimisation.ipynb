{
 "cells": [
  {
   "cell_type": "code",
   "execution_count": 17,
   "metadata": {},
   "outputs": [],
   "source": [
    "from pyschedule import Scenario, solvers, plotters, alt"
   ]
  },
  {
   "cell_type": "markdown",
   "metadata": {},
   "source": [
    "### Site Configuartion"
   ]
  },
  {
   "cell_type": "markdown",
   "metadata": {},
   "source": [
    "Scanners"
   ]
  },
  {
   "cell_type": "code",
   "execution_count": 18,
   "metadata": {},
   "outputs": [],
   "source": [
    "MRI_Scanner = 0\n",
    "PET_Scanner = 1"
   ]
  },
  {
   "cell_type": "markdown",
   "metadata": {},
   "source": [
    "Uptake Rooms"
   ]
  },
  {
   "cell_type": "code",
   "execution_count": 19,
   "metadata": {},
   "outputs": [],
   "source": [
    "UptakeRooms_Count = 2"
   ]
  },
  {
   "cell_type": "markdown",
   "metadata": {},
   "source": [
    "Hot Toilet"
   ]
  },
  {
   "cell_type": "code",
   "execution_count": 20,
   "metadata": {},
   "outputs": [],
   "source": [
    "HotToilet_Count = 1"
   ]
  },
  {
   "cell_type": "markdown",
   "metadata": {},
   "source": [
    "Workforce"
   ]
  },
  {
   "cell_type": "code",
   "execution_count": 21,
   "metadata": {},
   "outputs": [],
   "source": [
    "Radiographers = 0\n",
    "Technologists = 2\n",
    "Clinical_Assistants = 2\n",
    "Admin = 1"
   ]
  },
  {
   "cell_type": "markdown",
   "metadata": {},
   "source": [
    "Operating Hours"
   ]
  },
  {
   "cell_type": "code",
   "execution_count": 22,
   "metadata": {},
   "outputs": [],
   "source": [
    "Site_Operating_Hours = 12\n",
    "Site_Operating_Hours_FlexHours = 2\n",
    "Technologist1_Operating_Hours = 12\n",
    "Technologist2_Operating_Hours = 12\n",
    "Clinical_Asst1_Operating_Hours = 12\n",
    "Clinical_Asst2_Operating_Hours = 12\n",
    "Admin_Operating_Hours = 12"
   ]
  },
  {
   "cell_type": "markdown",
   "metadata": {},
   "source": [
    "Scan Limits"
   ]
  },
  {
   "cell_type": "code",
   "execution_count": 23,
   "metadata": {},
   "outputs": [],
   "source": [
    "Technologist1_Scan_Limit = 10\n",
    "Technologist2_Scan_Limit = 10"
   ]
  },
  {
   "cell_type": "markdown",
   "metadata": {},
   "source": [
    "Estimated Scan Demand"
   ]
  },
  {
   "cell_type": "code",
   "execution_count": 24,
   "metadata": {},
   "outputs": [],
   "source": [
    "PET30_Scan_Count = 15\n",
    "PET60_Scan_Count = 4"
   ]
  },
  {
   "cell_type": "markdown",
   "metadata": {},
   "source": [
    "### Create Scenario"
   ]
  },
  {
   "cell_type": "code",
   "execution_count": 25,
   "metadata": {},
   "outputs": [],
   "source": [
    "# Load pyschedule and create a scenario with ten steps planning horizon\n",
    "S = Scenario('PET_Schedule',horizon=720)"
   ]
  },
  {
   "cell_type": "markdown",
   "metadata": {},
   "source": [
    "### Create Resources"
   ]
  },
  {
   "cell_type": "code",
   "execution_count": 26,
   "metadata": {},
   "outputs": [],
   "source": [
    "# Scanner resources\n",
    "PET_Scanner = S.Resource('PET_Scanner',num=1)\n",
    "MRI_Scanner = S.Resource('MRI_Scanner',num=0)"
   ]
  },
  {
   "cell_type": "code",
   "execution_count": 27,
   "metadata": {},
   "outputs": [],
   "source": [
    "UptakeRoom = S.Resources('UptakeRoom',num=2)"
   ]
  },
  {
   "cell_type": "code",
   "execution_count": 28,
   "metadata": {},
   "outputs": [],
   "source": [
    "# Workforce resources\n",
    "Clinical_Assistant = S.Resource('Clinical_Assistant',num=1)\n",
    "Technologist = S.Resource('Technologist',num=2)\n",
    "Radiographer = S.Resource('Radiographer',num=0)\n",
    "Admin = S.Resource('Admin',num=1)"
   ]
  },
  {
   "cell_type": "markdown",
   "metadata": {},
   "source": [
    "Tasks"
   ]
  },
  {
   "cell_type": "code",
   "execution_count": 29,
   "metadata": {},
   "outputs": [],
   "source": [
    "# Create three tasks with lengths 1,2 and 3\n",
    "Doc_1 = S.Task('Doc_1',length=15)\n",
    "SQues_1 = S.Task('SQues_1',length=10)\n",
    "BVitals_1 = S.Task('BVitals_1',length=2)\n",
    "Cannulate_1 = S.Task('Cannulate_1',length=5) \n",
    "SQuesValidate_1 = S.Task('SQuesValidate_1',length=2)\n",
    "Inject_1 = S.Task('Inject_1',length=4)\n",
    "PRelax_1 = S.Task('PRelax_1',length=60)\n",
    "Scan30_1 = S.Task('Scan30_1',length=30,delay_cost=1)\n",
    "\n",
    "Doc_2 = S.Task('Doc_2',length=15)\n",
    "SQues_2 = S.Task('SQues_2',length=10)\n",
    "BVitals_2 = S.Task('BVitals_2',length=2)\n",
    "Cannulate_2 = S.Task('Cannulate_2',length=5) \n",
    "SQuesValidate_2 = S.Task('SQuesValidate_2',length=2)\n",
    "Inject_2 = S.Task('Inject_2',length=4)\n",
    "PRelax_2 = S.Task('PRelax_2',length=60)\n",
    "Scan60_2 = S.Task('Scan60_2',length=60,delay_cost=1)"
   ]
  },
  {
   "cell_type": "markdown",
   "metadata": {},
   "source": [
    "Who Can Do What Tasks"
   ]
  },
  {
   "cell_type": "code",
   "execution_count": 30,
   "metadata": {},
   "outputs": [],
   "source": [
    "Doc_1 += Clinical_Assistant | Admin | Technologist\n",
    "BVitals_1 += Clinical_Assistant | Technologist \n",
    "SQues_1 += Clinical_Assistant | Technologist\n",
    "SQuesValidate_1 += UptakeRoom[0] | UptakeRoom[1], Clinical_Assistant | Technologist\n",
    "Cannulate_1 += UptakeRoom[0] | UptakeRoom[1], Clinical_Assistant | Technologist\n",
    "PRelax_1 += UptakeRoom[0] | UptakeRoom[1]\n",
    "Inject_1 += UptakeRoom[0] | UptakeRoom[1] , Technologist\n",
    "Scan30_1 += PET_Scanner, Technologist\n",
    "\n",
    "Doc_2 += Clinical_Assistant | Admin | Technologist\n",
    "BVitals_2 += Clinical_Assistant | Technologist \n",
    "SQues_2 += Clinical_Assistant | Technologist\n",
    "SQuesValidate_2 += UptakeRoom[0] | UptakeRoom[1] , Clinical_Assistant | Technologist\n",
    "Cannulate_2 += UptakeRoom[0] | UptakeRoom[1], Clinical_Assistant | Technologist\n",
    "PRelax_2 += UptakeRoom[0] | UptakeRoom[1]\n",
    "Inject_2 += UptakeRoom[0] | UptakeRoom[1], Technologist\n",
    "Scan60_2 += PET_Scanner, Technologist"
   ]
  },
  {
   "cell_type": "code",
   "execution_count": null,
   "metadata": {},
   "outputs": [],
   "source": []
  },
  {
   "cell_type": "markdown",
   "metadata": {},
   "source": [
    "Task Precedence"
   ]
  },
  {
   "cell_type": "code",
   "execution_count": 31,
   "metadata": {},
   "outputs": [],
   "source": [
    "S+= Doc_1 < BVitals_1\n",
    "S+= BVitals_1 < SQues_1\n",
    "S+= SQues_1 < SQuesValidate_1\n",
    "S+= SQuesValidate_1 < Cannulate_1\n",
    "S+= Cannulate_1 < Inject_1\n",
    "S+= Inject_1 < PRelax_1\n",
    "S+= PRelax_1 < Scan30_1\n",
    "S+= Doc_1 + 150 > Scan30_1\n",
    "S+= Cannulate_1 + 70 < Scan30_1\n",
    "\n",
    "\n",
    "S+= Doc_2 < BVitals_2\n",
    "S+= BVitals_2 < SQues_2\n",
    "S+= SQues_2 < SQuesValidate_2\n",
    "S+= SQuesValidate_2 < Cannulate_2\n",
    "S+= Cannulate_2 < Inject_2\n",
    "S+= Inject_2 < PRelax_2\n",
    "S+= PRelax_2 < Scan60_2\n",
    "S+= Doc_2 + 180 > Scan60_2\n",
    "S+= Cannulate_2 + 70 < Scan60_2"
   ]
  },
  {
   "cell_type": "code",
   "execution_count": null,
   "metadata": {},
   "outputs": [],
   "source": []
  },
  {
   "cell_type": "code",
   "execution_count": null,
   "metadata": {},
   "outputs": [],
   "source": []
  },
  {
   "cell_type": "code",
   "execution_count": 32,
   "metadata": {},
   "outputs": [
    {
     "name": "stdout",
     "output_type": "stream",
     "text": [
      "###############################################\n",
      "\n",
      "SCENARIO: PET_Schedule / horizon: 720\n",
      "\n",
      "OBJECTIVE: Scan30_1+Scan60_2\n",
      "\n",
      "RESOURCES:\n",
      "PET_Scanner\n",
      "MRI_Scanner\n",
      "UptakeRoom0\n",
      "UptakeRoom1\n",
      "Clinical_Assistant\n",
      "Technologist\n",
      "Radiographer\n",
      "Admin\n",
      "\n",
      "TASKS:\n",
      "Doc_1 : Clinical_Assistant|Admin|Technologist\n",
      "SQues_1 : Clinical_Assistant|Technologist\n",
      "BVitals_1 : Clinical_Assistant|Technologist\n",
      "Cannulate_1 : UptakeRoom0|UptakeRoom1,Clinical_Assistant|Technologist\n",
      "SQuesValidate_1 : UptakeRoom0|UptakeRoom1,Clinical_Assistant|Technologist\n",
      "Inject_1 : UptakeRoom0|UptakeRoom1,Technologist\n",
      "PRelax_1 : UptakeRoom0|UptakeRoom1\n",
      "Scan30_1 : PET_Scanner,Technologist\n",
      "Doc_2 : Clinical_Assistant|Admin|Technologist\n",
      "SQues_2 : Clinical_Assistant|Technologist\n",
      "BVitals_2 : Clinical_Assistant|Technologist\n",
      "Cannulate_2 : UptakeRoom0|UptakeRoom1,Clinical_Assistant|Technologist\n",
      "SQuesValidate_2 : UptakeRoom0|UptakeRoom1,Clinical_Assistant|Technologist\n",
      "Inject_2 : UptakeRoom0|UptakeRoom1,Technologist\n",
      "PRelax_2 : UptakeRoom0|UptakeRoom1\n",
      "Scan60_2 : PET_Scanner,Technologist\n",
      "\n",
      "JOINT RESOURCES:\n",
      "Clinical_Assistant|Admin|Technologist : Doc_1\n",
      "Clinical_Assistant|Technologist : SQues_1\n",
      "Clinical_Assistant|Technologist : BVitals_1\n",
      "UptakeRoom0|UptakeRoom1 : Cannulate_1\n",
      "Clinical_Assistant|Technologist : Cannulate_1\n",
      "UptakeRoom0|UptakeRoom1 : SQuesValidate_1\n",
      "Clinical_Assistant|Technologist : SQuesValidate_1\n",
      "UptakeRoom0|UptakeRoom1 : Inject_1\n",
      "UptakeRoom0|UptakeRoom1 : PRelax_1\n",
      "Clinical_Assistant|Admin|Technologist : Doc_2\n",
      "Clinical_Assistant|Technologist : SQues_2\n",
      "Clinical_Assistant|Technologist : BVitals_2\n",
      "UptakeRoom0|UptakeRoom1 : Cannulate_2\n",
      "Clinical_Assistant|Technologist : Cannulate_2\n",
      "UptakeRoom0|UptakeRoom1 : SQuesValidate_2\n",
      "Clinical_Assistant|Technologist : SQuesValidate_2\n",
      "UptakeRoom0|UptakeRoom1 : Inject_2\n",
      "UptakeRoom0|UptakeRoom1 : PRelax_2\n",
      "\n",
      "LAX PRECEDENCES:\n",
      "Doc_1 < BVitals_1\n",
      "BVitals_1 < SQues_1\n",
      "SQues_1 < SQuesValidate_1\n",
      "SQuesValidate_1 < Cannulate_1\n",
      "Cannulate_1 < Inject_1\n",
      "Inject_1 < PRelax_1\n",
      "PRelax_1 < Scan30_1\n",
      "Scan30_1*1 < Doc_1 + 150 \n",
      "Cannulate_1 + 70 < Scan30_1\n",
      "Doc_2 < BVitals_2\n",
      "BVitals_2 < SQues_2\n",
      "SQues_2 < SQuesValidate_2\n",
      "SQuesValidate_2 < Cannulate_2\n",
      "Cannulate_2 < Inject_2\n",
      "Inject_2 < PRelax_2\n",
      "PRelax_2 < Scan60_2\n",
      "Scan60_2*1 < Doc_2 + 180 \n",
      "Cannulate_2 + 70 < Scan60_2\n",
      "\n",
      "###############################################\n"
     ]
    }
   ],
   "source": [
    "print(S)"
   ]
  },
  {
   "cell_type": "code",
   "execution_count": null,
   "metadata": {},
   "outputs": [],
   "source": []
  },
  {
   "cell_type": "markdown",
   "metadata": {},
   "source": [
    "Resource Requirement"
   ]
  },
  {
   "cell_type": "code",
   "execution_count": 33,
   "metadata": {},
   "outputs": [
    {
     "name": "stdout",
     "output_type": "stream",
     "text": [
      "INFO: execution time for solving mip (sec) = 144.06198406219482\n",
      "INFO: objective = 238.0\n",
      "[(Doc_1, Clinical_Assistant, 0, 15), (BVitals_1, Clinical_Assistant, 15, 17), (Doc_2, Admin, 16, 31), (SQues_1, Clinical_Assistant, 17, 27), (SQuesValidate_1, Clinical_Assistant, 27, 29), (SQuesValidate_1, UptakeRoom0, 27, 29), (Cannulate_1, Technologist, 29, 34), (Cannulate_1, UptakeRoom1, 29, 34), (BVitals_2, Clinical_Assistant, 33, 35), (Inject_1, Technologist, 35, 39), (Inject_1, UptakeRoom1, 35, 39), (SQues_2, Clinical_Assistant, 35, 45), (PRelax_1, UptakeRoom0, 39, 99), (SQuesValidate_2, Technologist, 45, 47), (SQuesValidate_2, UptakeRoom1, 45, 47), (Cannulate_2, Clinical_Assistant, 48, 53), (Cannulate_2, UptakeRoom1, 48, 53), (Inject_2, Technologist, 55, 59), (Inject_2, UptakeRoom1, 55, 59), (PRelax_2, UptakeRoom1, 71, 131), (Scan30_1, PET_Scanner, 104, 134), (Scan30_1, Technologist, 104, 134), (Scan60_2, PET_Scanner, 134, 194), (Scan60_2, Technologist, 134, 194)]\n"
     ]
    }
   ],
   "source": [
    "# compute and print a schedule\n",
    "solvers.mip.solve(S,msg=1)\n",
    "print(S.solution())"
   ]
  },
  {
   "cell_type": "code",
   "execution_count": 34,
   "metadata": {},
   "outputs": [],
   "source": [
    "plotters.matplotlib.plot(S,img_filename='op3.png')"
   ]
  },
  {
   "cell_type": "code",
   "execution_count": null,
   "metadata": {},
   "outputs": [],
   "source": []
  },
  {
   "cell_type": "code",
   "execution_count": null,
   "metadata": {},
   "outputs": [],
   "source": []
  },
  {
   "cell_type": "code",
   "execution_count": null,
   "metadata": {},
   "outputs": [],
   "source": []
  },
  {
   "cell_type": "code",
   "execution_count": null,
   "metadata": {},
   "outputs": [],
   "source": []
  }
 ],
 "metadata": {
  "kernelspec": {
   "display_name": "Python 3",
   "language": "python",
   "name": "python3"
  },
  "language_info": {
   "codemirror_mode": {
    "name": "ipython",
    "version": 3
   },
   "file_extension": ".py",
   "mimetype": "text/x-python",
   "name": "python",
   "nbconvert_exporter": "python",
   "pygments_lexer": "ipython3",
   "version": "3.7.3"
  }
 },
 "nbformat": 4,
 "nbformat_minor": 2
}
