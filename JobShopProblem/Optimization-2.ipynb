{
 "cells": [
  {
   "cell_type": "code",
   "execution_count": 1,
   "metadata": {},
   "outputs": [],
   "source": [
    "from pyschedule import Scenario, solvers, plotters, alt"
   ]
  },
  {
   "cell_type": "markdown",
   "metadata": {},
   "source": [
    "### Site Configuartion"
   ]
  },
  {
   "cell_type": "markdown",
   "metadata": {},
   "source": [
    "Scanners"
   ]
  },
  {
   "cell_type": "code",
   "execution_count": 2,
   "metadata": {},
   "outputs": [],
   "source": [
    "PET_Scanner = 1"
   ]
  },
  {
   "cell_type": "markdown",
   "metadata": {},
   "source": [
    "Uptake Rooms"
   ]
  },
  {
   "cell_type": "code",
   "execution_count": 3,
   "metadata": {},
   "outputs": [],
   "source": [
    "UptakeRooms_Count = 2"
   ]
  },
  {
   "cell_type": "markdown",
   "metadata": {},
   "source": [
    "Hot Toilet"
   ]
  },
  {
   "cell_type": "code",
   "execution_count": 4,
   "metadata": {},
   "outputs": [],
   "source": [
    "HotToilet_Count = 1"
   ]
  },
  {
   "cell_type": "markdown",
   "metadata": {},
   "source": [
    "Workforce"
   ]
  },
  {
   "cell_type": "code",
   "execution_count": 5,
   "metadata": {},
   "outputs": [],
   "source": [
    "Technologists_Count = 2\n",
    "Clinical_Assistants_Count = 2\n",
    "Admin_Count = 1"
   ]
  },
  {
   "cell_type": "markdown",
   "metadata": {},
   "source": [
    "Operating Hours"
   ]
  },
  {
   "cell_type": "code",
   "execution_count": 6,
   "metadata": {},
   "outputs": [],
   "source": [
    "Site_Operating_Hours_FlexMins = 2*60\n",
    "Site_Operating_Standard_Mins = 12*60\n",
    "Site_Operating_Mins = Site_Operating_Standard_Mins + Site_Operating_Hours_FlexMins\n",
    "\n",
    "Admin_Operating_Mins = 12*60"
   ]
  },
  {
   "cell_type": "markdown",
   "metadata": {},
   "source": [
    "Scan Limits"
   ]
  },
  {
   "cell_type": "markdown",
   "metadata": {},
   "source": [
    "Estimated Scan Demand"
   ]
  },
  {
   "cell_type": "code",
   "execution_count": 7,
   "metadata": {},
   "outputs": [],
   "source": [
    "PET30_Scan_Count = 2\n",
    "PET60_Scan_Count = 1"
   ]
  },
  {
   "cell_type": "code",
   "execution_count": 8,
   "metadata": {},
   "outputs": [
    {
     "data": {
      "text/plain": [
       "'Optimal'"
      ]
     },
     "execution_count": 8,
     "metadata": {},
     "output_type": "execute_result"
    }
   ],
   "source": [
    "import pulp\n",
    "# Instantiate our problem class\n",
    "model = pulp.LpProblem(\"Maximising Scans problem\", pulp.LpMaximize)\n",
    "\n",
    "Scan30 = pulp.LpVariable('Scan30', lowBound=0, cat='Integer')\n",
    "Scan60 = pulp.LpVariable('Scan60', lowBound=0, cat='Integer')\n",
    "\n",
    "# Objective function\n",
    "model +=  Scan30 +  Scan60, \"MaxScans\"\n",
    "\n",
    "# Constraints\n",
    "model += 40 * Scan30 + 70 * Scan60 <= 780\n",
    "model +=  Scan30 +  Scan60 <= 20\n",
    "#model += Scan30 <= 1\n",
    "model += Scan30 >= PET30_Scan_Count\n",
    "model += Scan60 >= PET60_Scan_Count\n",
    "model.solve()\n",
    "pulp.LpStatus[model.status]"
   ]
  },
  {
   "cell_type": "code",
   "execution_count": 9,
   "metadata": {},
   "outputs": [
    {
     "name": "stdout",
     "output_type": "stream",
     "text": [
      "Proceed Forward\n"
     ]
    }
   ],
   "source": [
    "if pulp.LpStatus[model.status]=='Optimal':\n",
    "    print(\"Proceed Forward\")\n",
    "else:\n",
    "    print(\"No Solution Exist\")\n"
   ]
  },
  {
   "cell_type": "markdown",
   "metadata": {},
   "source": [
    "### Create Scenario"
   ]
  },
  {
   "cell_type": "code",
   "execution_count": 10,
   "metadata": {},
   "outputs": [
    {
     "data": {
      "text/plain": [
       "###############################################\n",
       "\n",
       "SCENARIO: PET_Schedule / horizon: 1680\n",
       "\n",
       "OBJECTIVE: None\n",
       "\n",
       "RESOURCES:\n",
       "\n",
       "TASKS:\n",
       "\n",
       "JOINT RESOURCES:\n",
       "\n",
       "###############################################"
      ]
     },
     "execution_count": 10,
     "metadata": {},
     "output_type": "execute_result"
    }
   ],
   "source": [
    "# Load pyschedule and create a scenario with ten steps planning horizon\n",
    "S = Scenario('PET_Schedule',horizon=2*Site_Operating_Mins)\n",
    "S"
   ]
  },
  {
   "cell_type": "markdown",
   "metadata": {},
   "source": [
    "### Create Resources"
   ]
  },
  {
   "cell_type": "code",
   "execution_count": 11,
   "metadata": {},
   "outputs": [
    {
     "data": {
      "text/plain": [
       "###############################################\n",
       "\n",
       "SCENARIO: PET_Schedule / horizon: 1680\n",
       "\n",
       "OBJECTIVE: None\n",
       "\n",
       "RESOURCES:\n",
       "PET_Scanner\n",
       "\n",
       "TASKS:\n",
       "\n",
       "JOINT RESOURCES:\n",
       "\n",
       "###############################################"
      ]
     },
     "execution_count": 11,
     "metadata": {},
     "output_type": "execute_result"
    }
   ],
   "source": [
    "# Scanner resources\n",
    "PET_Scanner = S.Resource('PET_Scanner',num=PET_Scanner)\n",
    "S"
   ]
  },
  {
   "cell_type": "code",
   "execution_count": 12,
   "metadata": {},
   "outputs": [
    {
     "data": {
      "text/plain": [
       "###############################################\n",
       "\n",
       "SCENARIO: PET_Schedule / horizon: 1680\n",
       "\n",
       "OBJECTIVE: None\n",
       "\n",
       "RESOURCES:\n",
       "PET_Scanner\n",
       "UptakeRoom\n",
       "\n",
       "TASKS:\n",
       "\n",
       "JOINT RESOURCES:\n",
       "\n",
       "###############################################"
      ]
     },
     "execution_count": 12,
     "metadata": {},
     "output_type": "execute_result"
    }
   ],
   "source": [
    "UptakeRoom = S.Resource('UptakeRoom',num=UptakeRooms_Count)\n",
    "S"
   ]
  },
  {
   "cell_type": "code",
   "execution_count": 13,
   "metadata": {},
   "outputs": [
    {
     "data": {
      "text/plain": [
       "###############################################\n",
       "\n",
       "SCENARIO: PET_Schedule / horizon: 1680\n",
       "\n",
       "OBJECTIVE: None\n",
       "\n",
       "RESOURCES:\n",
       "PET_Scanner\n",
       "UptakeRoom\n",
       "Clinical_Assistant\n",
       "Technologist\n",
       "Admin\n",
       "\n",
       "TASKS:\n",
       "\n",
       "JOINT RESOURCES:\n",
       "\n",
       "###############################################"
      ]
     },
     "execution_count": 13,
     "metadata": {},
     "output_type": "execute_result"
    }
   ],
   "source": [
    "# Workforce resources\n",
    "Clinical_Assistant = S.Resource('Clinical_Assistant',num=Clinical_Assistants_Count)\n",
    "Technologist = S.Resource('Technologist',num=Technologists_Count)\n",
    "Admin = S.Resource('Admin',num=Admin_Count)\n",
    "S"
   ]
  },
  {
   "cell_type": "markdown",
   "metadata": {},
   "source": [
    "### Create Tasks"
   ]
  },
  {
   "cell_type": "code",
   "execution_count": 14,
   "metadata": {},
   "outputs": [
    {
     "name": "stdout",
     "output_type": "stream",
     "text": [
      "1\n",
      "2\n"
     ]
    }
   ],
   "source": [
    "for x in range(1,PET30_Scan_Count+1):\n",
    "    print(x)\n",
    "    globals()['D_%s' % x] = S.Task('D_%s' % x,length=5)\n",
    "    globals()['BV_%s' % x] = S.Task('BV_%s' % x,length=2)\n",
    "    globals()['C_%s' % x] = S.Task('C_%s' % x,length=5)\n",
    "    globals()['SQ_%s' % x] = S.Task('SQ_%s' % x,length=10)\n",
    "    globals()['SQV_%s' % x] = S.Task('SQV_%s' % x,length=4)\n",
    "    globals()['I_%s' % x] = S.Task('I_%s' % x,length=5)\n",
    "    globals()['PR_%s' % x] = S.Task('PR_%s' % x,length=50)\n",
    "    globals()['S3_%s' % x] = S.Task('S3_%s' % x,length=30,delay_cost=1)\n",
    "    \n",
    "        \n",
    "    globals()['D_%s' % x]  += Clinical_Assistant | Admin | Technologist\n",
    "    globals()['BV_%s' % x] += Clinical_Assistant | Technologist \n",
    "    globals()['SQ_%s' % x] += Clinical_Assistant | Technologist\n",
    "    globals()['C_%s' % x] += UptakeRoom, Clinical_Assistant | Technologist\n",
    "    globals()['SQV_%s' % x] += UptakeRoom,  Technologist\n",
    "    globals()['I_%s' % x] += UptakeRoom , Technologist\n",
    "    globals()['PR_%s' % x] += UptakeRoom\n",
    "    globals()['S3_%s' % x] += PET_Scanner, Technologist\n",
    "\n",
    "    \n",
    "    S+= globals()['D_%s' % x] < globals()['BV_%s' % x]\n",
    "    S+= globals()['BV_%s' % x] < globals()['SQ_%s' % x]\n",
    "    S+= globals()['SQ_%s' % x] < globals()['SQV_%s' % x]\n",
    "    S+= globals()['SQV_%s' % x] < globals()['C_%s' % x]\n",
    "    S+= globals()['C_%s' % x] < globals()['I_%s' % x]\n",
    "    S+= globals()['I_%s' % x] < globals()['PR_%s' % x]\n",
    "    S+= globals()['PR_%s' % x] < globals()['S3_%s' % x]\n",
    "    S+= globals()['D_%s' % x] + 150 > globals()['S3_%s' % x]\n",
    "    #S+= globals()['C_%s' % x] + 50 < globals()['S3_%s' % x]"
   ]
  },
  {
   "cell_type": "code",
   "execution_count": 15,
   "metadata": {},
   "outputs": [
    {
     "data": {
      "text/plain": [
       "###############################################\n",
       "\n",
       "SCENARIO: PET_Schedule / horizon: 1680\n",
       "\n",
       "OBJECTIVE: S3_1+S3_2\n",
       "\n",
       "RESOURCES:\n",
       "PET_Scanner\n",
       "UptakeRoom\n",
       "Clinical_Assistant\n",
       "Technologist\n",
       "Admin\n",
       "\n",
       "TASKS:\n",
       "D_1 : Clinical_Assistant|Admin|Technologist\n",
       "BV_1 : Clinical_Assistant|Technologist\n",
       "C_1 : UptakeRoom,Clinical_Assistant|Technologist\n",
       "SQ_1 : Clinical_Assistant|Technologist\n",
       "SQV_1 : UptakeRoom,Technologist\n",
       "I_1 : UptakeRoom,Technologist\n",
       "PR_1 : UptakeRoom\n",
       "S3_1 : PET_Scanner,Technologist\n",
       "D_2 : Clinical_Assistant|Admin|Technologist\n",
       "BV_2 : Clinical_Assistant|Technologist\n",
       "C_2 : UptakeRoom,Clinical_Assistant|Technologist\n",
       "SQ_2 : Clinical_Assistant|Technologist\n",
       "SQV_2 : UptakeRoom,Technologist\n",
       "I_2 : UptakeRoom,Technologist\n",
       "PR_2 : UptakeRoom\n",
       "S3_2 : PET_Scanner,Technologist\n",
       "\n",
       "JOINT RESOURCES:\n",
       "Clinical_Assistant|Admin|Technologist : D_1\n",
       "Clinical_Assistant|Technologist : BV_1\n",
       "Clinical_Assistant|Technologist : C_1\n",
       "Clinical_Assistant|Technologist : SQ_1\n",
       "Clinical_Assistant|Admin|Technologist : D_2\n",
       "Clinical_Assistant|Technologist : BV_2\n",
       "Clinical_Assistant|Technologist : C_2\n",
       "Clinical_Assistant|Technologist : SQ_2\n",
       "\n",
       "LAX PRECEDENCES:\n",
       "D_1 < BV_1\n",
       "BV_1 < SQ_1\n",
       "SQ_1 < SQV_1\n",
       "SQV_1 < C_1\n",
       "C_1 < I_1\n",
       "I_1 < PR_1\n",
       "PR_1 < S3_1\n",
       "S3_1*1 < D_1 + 150 \n",
       "D_2 < BV_2\n",
       "BV_2 < SQ_2\n",
       "SQ_2 < SQV_2\n",
       "SQV_2 < C_2\n",
       "C_2 < I_2\n",
       "I_2 < PR_2\n",
       "PR_2 < S3_2\n",
       "S3_2*1 < D_2 + 150 \n",
       "\n",
       "###############################################"
      ]
     },
     "execution_count": 15,
     "metadata": {},
     "output_type": "execute_result"
    }
   ],
   "source": [
    "S"
   ]
  },
  {
   "cell_type": "code",
   "execution_count": null,
   "metadata": {},
   "outputs": [],
   "source": [
    "\n"
   ]
  },
  {
   "cell_type": "code",
   "execution_count": 16,
   "metadata": {},
   "outputs": [
    {
     "name": "stdout",
     "output_type": "stream",
     "text": [
      "3\n"
     ]
    }
   ],
   "source": [
    "for x in range(PET30_Scan_Count+1,PET30_Scan_Count+PET60_Scan_Count+1):\n",
    "    print(x)\n",
    "    globals()['D_%s' % x] = S.Task('D_%s' % x,length=15)\n",
    "    globals()['BV_%s' % x] = S.Task('BV_%s' % x,length=2)\n",
    "    globals()['C_%s' % x] = S.Task('C_%s' % x,length=5)\n",
    "    globals()['SQ_%s' % x] = S.Task('SQ_%s' % x,length=10)\n",
    "    globals()['SQV_%s' % x] = S.Task('SQV_%s' % x,length=4)\n",
    "    globals()['I_%s' % x] = S.Task('I_%s' % x,length=5)\n",
    "    globals()['PR_%s' % x] = S.Task('PR_%s' % x,length=50)\n",
    "    globals()['S6_%s' % x] = S.Task('S6_%s' % x,length=60,delay_cost=1)\n",
    "    \n",
    "    globals()['D_%s' % x]  += Clinical_Assistant | Admin | Technologist\n",
    "    globals()['BV_%s' % x] += Clinical_Assistant | Technologist \n",
    "    globals()['SQ_%s' % x] += Clinical_Assistant | Technologist\n",
    "    globals()['C_%s' % x] += UptakeRoom, Clinical_Assistant | Technologist\n",
    "    globals()['SQV_%s' % x] += UptakeRoom, Clinical_Assistant | Technologist\n",
    "    globals()['I_%s' % x] += UptakeRoom , Technologist\n",
    "    globals()['PR_%s' % x] += UptakeRoom\n",
    "    globals()['S6_%s' % x] += PET_Scanner, Technologist\n",
    "\n",
    "    \n",
    "    S+= globals()['D_%s' % x] < globals()['BV_%s' % x]\n",
    "    S+= globals()['BV_%s' % x] < globals()['SQ_%s' % x]\n",
    "    S+= globals()['SQ_%s' % x] < globals()['SQV_%s' % x]\n",
    "    S+= globals()['SQV_%s' % x] < globals()['C_%s' % x]\n",
    "    S+= globals()['C_%s' % x] < globals()['I_%s' % x]\n",
    "    S+= globals()['I_%s' % x] < globals()['PR_%s' % x]\n",
    "    S+= globals()['PR_%s' % x] < globals()['S6_%s' % x]\n",
    "    S+= globals()['D_%s' % x] + 150 > globals()['S6_%s' % x]\n",
    "    #S+= globals()['C_%s' % x] + 70 < globals()['S6_%s' % x]"
   ]
  },
  {
   "cell_type": "code",
   "execution_count": 17,
   "metadata": {},
   "outputs": [
    {
     "name": "stdout",
     "output_type": "stream",
     "text": [
      "###############################################\n",
      "\n",
      "SCENARIO: PET_Schedule / horizon: 1680\n",
      "\n",
      "OBJECTIVE: S3_1+S3_2+S6_3\n",
      "\n",
      "RESOURCES:\n",
      "PET_Scanner\n",
      "UptakeRoom\n",
      "Clinical_Assistant\n",
      "Technologist\n",
      "Admin\n",
      "\n",
      "TASKS:\n",
      "D_1 : Clinical_Assistant|Admin|Technologist\n",
      "BV_1 : Clinical_Assistant|Technologist\n",
      "C_1 : UptakeRoom,Clinical_Assistant|Technologist\n",
      "SQ_1 : Clinical_Assistant|Technologist\n",
      "SQV_1 : UptakeRoom,Technologist\n",
      "I_1 : UptakeRoom,Technologist\n",
      "PR_1 : UptakeRoom\n",
      "S3_1 : PET_Scanner,Technologist\n",
      "D_2 : Clinical_Assistant|Admin|Technologist\n",
      "BV_2 : Clinical_Assistant|Technologist\n",
      "C_2 : UptakeRoom,Clinical_Assistant|Technologist\n",
      "SQ_2 : Clinical_Assistant|Technologist\n",
      "SQV_2 : UptakeRoom,Technologist\n",
      "I_2 : UptakeRoom,Technologist\n",
      "PR_2 : UptakeRoom\n",
      "S3_2 : PET_Scanner,Technologist\n",
      "D_3 : Clinical_Assistant|Admin|Technologist\n",
      "BV_3 : Clinical_Assistant|Technologist\n",
      "C_3 : UptakeRoom,Clinical_Assistant|Technologist\n",
      "SQ_3 : Clinical_Assistant|Technologist\n",
      "SQV_3 : UptakeRoom,Clinical_Assistant|Technologist\n",
      "I_3 : UptakeRoom,Technologist\n",
      "PR_3 : UptakeRoom\n",
      "S6_3 : PET_Scanner,Technologist\n",
      "\n",
      "JOINT RESOURCES:\n",
      "Clinical_Assistant|Admin|Technologist : D_1\n",
      "Clinical_Assistant|Technologist : BV_1\n",
      "Clinical_Assistant|Technologist : C_1\n",
      "Clinical_Assistant|Technologist : SQ_1\n",
      "Clinical_Assistant|Admin|Technologist : D_2\n",
      "Clinical_Assistant|Technologist : BV_2\n",
      "Clinical_Assistant|Technologist : C_2\n",
      "Clinical_Assistant|Technologist : SQ_2\n",
      "Clinical_Assistant|Admin|Technologist : D_3\n",
      "Clinical_Assistant|Technologist : BV_3\n",
      "Clinical_Assistant|Technologist : C_3\n",
      "Clinical_Assistant|Technologist : SQ_3\n",
      "Clinical_Assistant|Technologist : SQV_3\n",
      "\n",
      "LAX PRECEDENCES:\n",
      "D_1 < BV_1\n",
      "BV_1 < SQ_1\n",
      "SQ_1 < SQV_1\n",
      "SQV_1 < C_1\n",
      "C_1 < I_1\n",
      "I_1 < PR_1\n",
      "PR_1 < S3_1\n",
      "S3_1*1 < D_1 + 150 \n",
      "D_2 < BV_2\n",
      "BV_2 < SQ_2\n",
      "SQ_2 < SQV_2\n",
      "SQV_2 < C_2\n",
      "C_2 < I_2\n",
      "I_2 < PR_2\n",
      "PR_2 < S3_2\n",
      "S3_2*1 < D_2 + 150 \n",
      "D_3 < BV_3\n",
      "BV_3 < SQ_3\n",
      "SQ_3 < SQV_3\n",
      "SQV_3 < C_3\n",
      "C_3 < I_3\n",
      "I_3 < PR_3\n",
      "PR_3 < S6_3\n",
      "S6_3*1 < D_3 + 150 \n",
      "\n",
      "###############################################\n"
     ]
    }
   ],
   "source": [
    "print(S)"
   ]
  },
  {
   "cell_type": "markdown",
   "metadata": {},
   "source": [
    "Resource Requirement"
   ]
  },
  {
   "cell_type": "code",
   "execution_count": null,
   "metadata": {},
   "outputs": [],
   "source": [
    "%%time\n",
    "# compute and print a schedule\n",
    "solvers.mip.solve(S,time_limit=10,random_seed=42,msg=1)\n",
    "print(S.solution())"
   ]
  },
  {
   "cell_type": "code",
   "execution_count": null,
   "metadata": {},
   "outputs": [],
   "source": [
    "%matplotlib inline\n",
    "plotters.matplotlib.plot(S,img_filename='op5.png')"
   ]
  },
  {
   "cell_type": "code",
   "execution_count": null,
   "metadata": {},
   "outputs": [],
   "source": [
    "@@\n",
    "if solvers.mip.solve(S,msg=1):\n",
    "    %matplotlib inline\n",
    "    plotters.matplotlib.plot(S,fig_size=(12,5))\n",
    "else:\n",
    "    print('no solution found')"
   ]
  },
  {
   "cell_type": "code",
   "execution_count": null,
   "metadata": {},
   "outputs": [],
   "source": [
    "pulp.pulpTestAll()"
   ]
  },
  {
   "cell_type": "code",
   "execution_count": null,
   "metadata": {},
   "outputs": [],
   "source": []
  },
  {
   "cell_type": "code",
   "execution_count": null,
   "metadata": {},
   "outputs": [],
   "source": []
  },
  {
   "cell_type": "code",
   "execution_count": null,
   "metadata": {},
   "outputs": [],
   "source": []
  }
 ],
 "metadata": {
  "kernelspec": {
   "display_name": "Python 3",
   "language": "python",
   "name": "python3"
  },
  "language_info": {
   "codemirror_mode": {
    "name": "ipython",
    "version": 3
   },
   "file_extension": ".py",
   "mimetype": "text/x-python",
   "name": "python",
   "nbconvert_exporter": "python",
   "pygments_lexer": "ipython3",
   "version": "3.7.3"
  }
 },
 "nbformat": 4,
 "nbformat_minor": 2
}
